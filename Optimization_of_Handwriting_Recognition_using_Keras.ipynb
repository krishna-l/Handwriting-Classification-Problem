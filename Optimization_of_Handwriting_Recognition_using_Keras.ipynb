{
  "nbformat": 4,
  "nbformat_minor": 0,
  "metadata": {
    "colab": {
      "name": "Optimization of Handwriting Recognition using Keras.ipynb",
      "provenance": []
    },
    "kernelspec": {
      "name": "python3",
      "display_name": "Python 3"
    }
  },
  "cells": [
    {
      "cell_type": "markdown",
      "metadata": {
        "id": "rN8AsfPTmPzd",
        "colab_type": "text"
      },
      "source": [
        "# Handwriting Regcognition Optimized using Keras and TensorFlow\n",
        "\n",
        "We are going to see the same problem of handwriting recognition using Keras and TensorFlow.\n",
        "Here we are going to use some additional methods to improve train and test accuracy."
      ]
    },
    {
      "cell_type": "code",
      "metadata": {
        "id": "zBmB2e6emp6Q",
        "colab_type": "code",
        "colab": {}
      },
      "source": [
        "from tensorflow import keras\n",
        "from tensorflow.keras.datasets import mnist\n",
        "from tensorflow.keras.models import Sequential\n",
        "from tensorflow.keras.layers import Dense, Dropout\n",
        "from tensorflow.keras.optimizers import RMSprop"
      ],
      "execution_count": 0,
      "outputs": []
    },
    {
      "cell_type": "markdown",
      "metadata": {
        "id": "AxMQR6C7nP1h",
        "colab_type": "text"
      },
      "source": [
        "Lets load the mnist data set into train and test samples same 60k train and 10k test samples are available"
      ]
    },
    {
      "cell_type": "code",
      "metadata": {
        "id": "-kWan9x1nXZG",
        "colab_type": "code",
        "colab": {}
      },
      "source": [
        "(x_train, y_train), (x_test, y_test) = mnist.load_data()"
      ],
      "execution_count": 0,
      "outputs": []
    },
    {
      "cell_type": "markdown",
      "metadata": {
        "id": "TgVooXXinpo6",
        "colab_type": "text"
      },
      "source": [
        "Reshaping the data into the 1D array and normalize the data to be between 0-1 and of type float."
      ]
    },
    {
      "cell_type": "code",
      "metadata": {
        "id": "6SMC72RNn4vl",
        "colab_type": "code",
        "colab": {}
      },
      "source": [
        "x_train = x_train.reshape(60000,784)\n",
        "x_test = x_test.reshape(10000,784)\n",
        "x_train = x_train.astype('float32')\n",
        "x_test = x_test.astype('float32')\n",
        "train_images = x_train/255\n",
        "test_images = x_test/255"
      ],
      "execution_count": 0,
      "outputs": []
    },
    {
      "cell_type": "markdown",
      "metadata": {
        "id": "cIL2CUu4oiOQ",
        "colab_type": "text"
      },
      "source": [
        "Now lets convert the label data into one-hot format ie [0,1,0,0,0,0,0,0,0] format as we did earlier."
      ]
    },
    {
      "cell_type": "code",
      "metadata": {
        "id": "llBsNGucoti0",
        "colab_type": "code",
        "colab": {}
      },
      "source": [
        "train_labels = keras.utils.to_categorical(y_train, 10)\n",
        "test_labels = keras.utils.to_categorical(y_test,10)"
      ],
      "execution_count": 0,
      "outputs": []
    },
    {
      "cell_type": "markdown",
      "metadata": {
        "id": "mddx2wiopPKh",
        "colab_type": "text"
      },
      "source": [
        "Now lets start setting up our NN:\n",
        "We need to define our model as Sequential i.e we will add individual layers to our network one layer at a time. \n",
        "Then we add the hidden layers and define their activation function and number of neurons one at a time.\n",
        "then we define our output layer."
      ]
    },
    {
      "cell_type": "code",
      "metadata": {
        "id": "4v3UWl-4pl9I",
        "colab_type": "code",
        "colab": {
          "base_uri": "https://localhost:8080/",
          "height": 344
        },
        "outputId": "2d17f306-f196-47d7-d187-1b306e248d20"
      },
      "source": [
        "model = Sequential()\n",
        "#defining HL\n",
        "model.add(Dense(512, activation='relu', input_shape=(784,))) #HL consists of 512 neurons, 784 inputs and activation function relu.\n",
        "model.add(Dropout(0.2))\n",
        "model.add(Dense(512, activation='relu'))\n",
        "model.add(Dropout(0.2))\n",
        "#Defining OL\n",
        "model.add(Dense(10, activation='softmax')) #OL has 10 nodes and has a softmax activation function\n",
        "\n",
        "#Lets look at our model structure.\n",
        "model.summary()"
      ],
      "execution_count": 14,
      "outputs": [
        {
          "output_type": "stream",
          "text": [
            "Model: \"sequential_3\"\n",
            "_________________________________________________________________\n",
            "Layer (type)                 Output Shape              Param #   \n",
            "=================================================================\n",
            "dense_6 (Dense)              (None, 512)               401920    \n",
            "_________________________________________________________________\n",
            "dropout (Dropout)            (None, 512)               0         \n",
            "_________________________________________________________________\n",
            "dense_7 (Dense)              (None, 512)               262656    \n",
            "_________________________________________________________________\n",
            "dropout_1 (Dropout)          (None, 512)               0         \n",
            "_________________________________________________________________\n",
            "dense_8 (Dense)              (None, 10)                5130      \n",
            "=================================================================\n",
            "Total params: 669,706\n",
            "Trainable params: 669,706\n",
            "Non-trainable params: 0\n",
            "_________________________________________________________________\n"
          ],
          "name": "stdout"
        }
      ]
    },
    {
      "cell_type": "markdown",
      "metadata": {
        "id": "ji_g4YHErHgf",
        "colab_type": "text"
      },
      "source": [
        "Lets set up the optimizers and the loss function. In tensorflow we had to code all of them manually. Here its alla one line code using Keras. Refer www.keras.io/optimizers/"
      ]
    },
    {
      "cell_type": "code",
      "metadata": {
        "id": "JU8FxiJtruSP",
        "colab_type": "code",
        "colab": {}
      },
      "source": [
        "#model.compile method is used to define the loss function, optimzers and accuracy metrics.\n",
        "#here we use categorical cross entropy as loss function, RMSprop optimizer.\n",
        "model.compile(loss='categorical_crossentropy', optimizer=RMSprop(),metrics=['accuracy'])"
      ],
      "execution_count": 0,
      "outputs": []
    },
    {
      "cell_type": "markdown",
      "metadata": {
        "id": "JkXXgqjYsgUm",
        "colab_type": "text"
      },
      "source": [
        "Lets train the model now. here we will do 10 epochs with a batch size of 100. \n",
        "CONS of Keras: its slow waaayyy too slow, and especially if we dont have a GPU. TensorFlow takes fair amount of time. \n",
        "\n",
        "Edit: I found TensorFlow took same amount of time as Keras to finish 1300 epochs as compared to 50 epochs"
      ]
    },
    {
      "cell_type": "code",
      "metadata": {
        "id": "dk2GpR7jtZ8H",
        "colab_type": "code",
        "colab": {
          "base_uri": "https://localhost:8080/",
          "height": 419
        },
        "outputId": "30aeaf23-7e2b-4c39-8bad-6b4b558e9a04"
      },
      "source": [
        "hist = model.fit(train_images, train_labels, batch_size=100,\n",
        "                 epochs=10,verbose=2, validation_data=(test_images, test_labels))"
      ],
      "execution_count": 17,
      "outputs": [
        {
          "output_type": "stream",
          "text": [
            "Train on 60000 samples, validate on 10000 samples\n",
            "Epoch 1/10\n",
            "60000/60000 - 8s - loss: 0.2320 - acc: 0.9279 - val_loss: 0.1000 - val_acc: 0.9684\n",
            "Epoch 2/10\n",
            "60000/60000 - 8s - loss: 0.1031 - acc: 0.9688 - val_loss: 0.0972 - val_acc: 0.9739\n",
            "Epoch 3/10\n",
            "60000/60000 - 8s - loss: 0.0768 - acc: 0.9771 - val_loss: 0.0850 - val_acc: 0.9766\n",
            "Epoch 4/10\n",
            "60000/60000 - 8s - loss: 0.0609 - acc: 0.9820 - val_loss: 0.0858 - val_acc: 0.9766\n",
            "Epoch 5/10\n",
            "60000/60000 - 8s - loss: 0.0538 - acc: 0.9845 - val_loss: 0.0732 - val_acc: 0.9817\n",
            "Epoch 6/10\n",
            "60000/60000 - 8s - loss: 0.0475 - acc: 0.9863 - val_loss: 0.0775 - val_acc: 0.9810\n",
            "Epoch 7/10\n",
            "60000/60000 - 8s - loss: 0.0442 - acc: 0.9880 - val_loss: 0.0675 - val_acc: 0.9844\n",
            "Epoch 8/10\n",
            "60000/60000 - 8s - loss: 0.0362 - acc: 0.9900 - val_loss: 0.0802 - val_acc: 0.9822\n",
            "Epoch 9/10\n",
            "60000/60000 - 8s - loss: 0.0334 - acc: 0.9911 - val_loss: 0.0880 - val_acc: 0.9816\n",
            "Epoch 10/10\n",
            "60000/60000 - 9s - loss: 0.0309 - acc: 0.9917 - val_loss: 0.1142 - val_acc: 0.9803\n"
          ],
          "name": "stdout"
        }
      ]
    },
    {
      "cell_type": "markdown",
      "metadata": {
        "id": "lW0KLotqupri",
        "colab_type": "text"
      },
      "source": [
        "Lets evaluate the model for test dataset."
      ]
    },
    {
      "cell_type": "code",
      "metadata": {
        "id": "-guXZFZwuLg1",
        "colab_type": "code",
        "colab": {
          "base_uri": "https://localhost:8080/",
          "height": 53
        },
        "outputId": "575b6113-a436-48bf-bd52-768a8d4d4229"
      },
      "source": [
        "score = model.evaluate(test_images,test_labels,verbose=0 )\n",
        "print('Test Loss: ',score[0])\n",
        "print('Test Accuracy: ',score[1])"
      ],
      "execution_count": 18,
      "outputs": [
        {
          "output_type": "stream",
          "text": [
            "Test Loss:  0.1142198529171124\n",
            "Test Accuracy:  0.9803\n"
          ],
          "name": "stdout"
        }
      ]
    }
  ]
}